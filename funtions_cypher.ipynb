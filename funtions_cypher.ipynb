{
 "cells": [
  {
   "cell_type": "code",
   "execution_count": 1,
   "metadata": {},
   "outputs": [],
   "source": [
    "import pandas as pd\n",
    "import numpy as np"
   ]
  },
  {
   "cell_type": "markdown",
   "metadata": {},
   "source": [
    "### funtions with inputs\n"
   ]
  },
  {
   "cell_type": "code",
   "execution_count": 4,
   "metadata": {},
   "outputs": [],
   "source": [
    "# def greet():\n",
    "#     print(\"hello\")\n",
    "#     print(\" how you do\")\n",
    "#     print(\" isnt the weather nice\")\n",
    "#     return print"
   ]
  },
  {
   "cell_type": "code",
   "execution_count": 10,
   "metadata": {},
   "outputs": [
    {
     "name": "stdout",
     "output_type": "stream",
     "text": [
      "hello\n",
      " how you do\n",
      " isnt the weather nice\n"
     ]
    }
   ],
   "source": [
    "# name = greet()"
   ]
  },
  {
   "cell_type": "code",
   "execution_count": 6,
   "metadata": {},
   "outputs": [],
   "source": [
    "# def greet_name(name):\n",
    "#     print(f\"hello {name}\")\n",
    "#     print(f\" how you do {name}\")\n",
    "#     print(f\" isnt the weather nice {name}\")\n",
    "#     return print"
   ]
  },
  {
   "cell_type": "code",
   "execution_count": 11,
   "metadata": {},
   "outputs": [
    {
     "name": "stdout",
     "output_type": "stream",
     "text": [
      "hello Josue\n",
      " how you do Josue\n",
      " isnt the weather nice Josue\n"
     ]
    }
   ],
   "source": [
    "# name = greet_name('Josue')"
   ]
  },
  {
   "cell_type": "code",
   "execution_count": 12,
   "metadata": {},
   "outputs": [],
   "source": [
    "# def life_in_weeks(current_age):\n",
    "#     total_years =90\n",
    "#     weeks_in_the_years =52\n",
    "#     years_left = total_years - current_age\n",
    "#     weeks_left = years_left * weeks_in_the_years\n",
    "#     print(f\"you have {weeks_left} weeks left.\")"
   ]
  },
  {
   "cell_type": "code",
   "execution_count": 14,
   "metadata": {},
   "outputs": [
    {
     "name": "stdout",
     "output_type": "stream",
     "text": [
      "you have 2704 weeks left.\n"
     ]
    }
   ],
   "source": [
    "# weeks = life_in_weeks(38)"
   ]
  },
  {
   "cell_type": "markdown",
   "metadata": {},
   "source": [
    "FUNTION WITH MORE THE ONE ARGUMENT"
   ]
  },
  {
   "cell_type": "code",
   "execution_count": 15,
   "metadata": {},
   "outputs": [],
   "source": [
    "# def greetings(name,location):\n",
    "#     print(f\" Hello {name}\")\n",
    "#     print(f\" how is in that {location}\")\n"
   ]
  },
  {
   "cell_type": "code",
   "execution_count": 16,
   "metadata": {},
   "outputs": [
    {
     "name": "stdout",
     "output_type": "stream",
     "text": [
      " Hello josue\n",
      " how is in that baltimore\n"
     ]
    }
   ],
   "source": [
    "# name = greetings(\"josue\",\"baltimore\")"
   ]
  },
  {
   "cell_type": "markdown",
   "metadata": {},
   "source": [
    "Keyword arguments"
   ]
  },
  {
   "cell_type": "code",
   "execution_count": 22,
   "metadata": {},
   "outputs": [],
   "source": [
    "def greetings(name = 'angela', locations = 'baltimore'):\n",
    "    print(f\" Hello {name}\")\n",
    "    print(f\" how is in that {locations}\")"
   ]
  },
  {
   "cell_type": "code",
   "execution_count": 30,
   "metadata": {},
   "outputs": [
    {
     "name": "stdout",
     "output_type": "stream",
     "text": [
      " Hello angi\n",
      " how is in that london\n"
     ]
    }
   ],
   "source": [
    "names = greetings(locations= 'london', name = 'angi')"
   ]
  },
  {
   "cell_type": "markdown",
   "metadata": {},
   "source": [
    "aunque nos equivoquemos en el orden la funcion ya sabe el orden"
   ]
  },
  {
   "cell_type": "markdown",
   "metadata": {},
   "source": [
    "exercise"
   ]
  },
  {
   "cell_type": "code",
   "execution_count": 32,
   "metadata": {},
   "outputs": [
    {
     "name": "stdout",
     "output_type": "stream",
     "text": [
      "42\n"
     ]
    }
   ],
   "source": [
    "def calculate_love_score(name1, name2):\n",
    "    # Combine both names into a single string\n",
    "    combined_names = name1.lower() + name2.lower()\n",
    "    \n",
    "    # Count occurrences of each letter in \"TRUE\"\n",
    "    t_count = combined_names.count('t')\n",
    "    r_count = combined_names.count('r')\n",
    "    u_count = combined_names.count('u')\n",
    "    e_count = combined_names.count('e')\n",
    "    \n",
    "    # Calculate total occurrences for \"TRUE\"\n",
    "    true_total = t_count + r_count + u_count + e_count\n",
    "    \n",
    "    # Count occurrences of each letter in \"LOVE\"\n",
    "    l_count = combined_names.count('l')\n",
    "    o_count = combined_names.count('o')\n",
    "    v_count = combined_names.count('v')\n",
    "    e_count_love = combined_names.count('e')\n",
    "    \n",
    "    # Calculate total occurrences for \"LOVE\"\n",
    "    love_total = l_count + o_count + v_count + e_count_love\n",
    "    \n",
    "    # Combine the totals to form a two-digit number\n",
    "    love_score = int(f\"{true_total}{love_total}\")\n",
    "    \n",
    "    # Print the love score\n",
    "    print(love_score)\n",
    "\n",
    "# Example usage:\n",
    "calculate_love_score(\"Kanye West\", \"Kim Kardashian\")\n"
   ]
  },
  {
   "cell_type": "code",
   "execution_count": 33,
   "metadata": {},
   "outputs": [
    {
     "name": "stdout",
     "output_type": "stream",
     "text": [
      "34\n"
     ]
    }
   ],
   "source": [
    "love = calculate_love_score(\"josue\", \"carolina\")"
   ]
  },
  {
   "cell_type": "markdown",
   "metadata": {},
   "source": [
    "Part2"
   ]
  },
  {
   "cell_type": "code",
   "execution_count": null,
   "metadata": {},
   "outputs": [],
   "source": [
    "# Define the alphabet list\n",
    "alfabet = ['a', 'b', 'c', 'd', 'e', 'f', 'g', 'h', 'i', 'j', 'k', 'l', 'm', 'n', 'o', 'p', 'q', 'r', 's', 't', 'u', 'v', 'w', 'x', 'y', 'z']\n",
    "\n",
    "def ceaser(original_text, shift_amount, encode_or_decode):\n",
    "    output_text = \"\"\n",
    "\n",
    "    # If decoding, reverse the shift amount\n",
    "    if encode_or_decode == 'decode':\n",
    "        shift_amount *= -1\n",
    "\n",
    "    # Iterate over each letter in the input text\n",
    "    for letter in original_text:\n",
    "        if letter in alfabet:\n",
    "            # Find the shifted position\n",
    "            shifted_position = (alfabet.index(letter) + shift_amount) % len(alfabet)\n",
    "            output_text += alfabet[shifted_position]\n",
    "        else:\n",
    "            # Directly append characters not in the alphabet (like spaces, punctuation, numbers, etc.)\n",
    "            output_text += letter\n",
    "\n",
    "    print(f\"Here is the {encode_or_decode}d message: {output_text}\")\n",
    "\n",
    "# Main loop to keep the program running until the user decides to stop\n",
    "while True:\n",
    "    # Get user input for the operation, message, and shift amount\n",
    "    direction = input(\"Type 'encode' to encrypt, type 'decode' to decrypt the code:\\n\").lower()\n",
    "    text = input(\"Type your message:\\n\").lower()\n",
    "    shift = int(input(\"Type the shift number:\\n\"))\n",
    "\n",
    "    # Call the function with user input\n",
    "    ceaser(original_text=text, shift_amount=shift, encode_or_decode=direction)\n",
    "\n",
    "    # Ask if the user wants to restart the program\n",
    "    restart = input(\"Type 'yes' if you want to go again. Otherwise, type 'no':\\n\").lower()\n",
    "    if restart != 'yes':\n",
    "        print(\"Goodbye!\")\n",
    "        break\n"
   ]
  },
  {
   "cell_type": "code",
   "execution_count": null,
   "metadata": {},
   "outputs": [],
   "source": []
  }
 ],
 "metadata": {
  "kernelspec": {
   "display_name": "mt5Trader",
   "language": "python",
   "name": "python3"
  },
  "language_info": {
   "codemirror_mode": {
    "name": "ipython",
    "version": 3
   },
   "file_extension": ".py",
   "mimetype": "text/x-python",
   "name": "python",
   "nbconvert_exporter": "python",
   "pygments_lexer": "ipython3",
   "version": "3.11.9"
  }
 },
 "nbformat": 4,
 "nbformat_minor": 2
}
