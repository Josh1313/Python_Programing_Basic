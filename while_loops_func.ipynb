{
 "cells": [
  {
   "cell_type": "code",
   "execution_count": null,
   "metadata": {},
   "outputs": [],
   "source": [
    "def turn_right():\n",
    "    turn_left()\n",
    "    turn_left()\n",
    "    turn_left()\n",
    "    \n",
    "def jump():\n",
    "    move()\n",
    "    turn_left()   \n",
    "    move()\n",
    "    turn_right()\n",
    "    move()\n",
    "    turn_right() \n",
    "    move()\n",
    "    turn_left() \n",
    "    \n",
    "for steps in range(6):\n",
    "    jump()"
   ]
  },
  {
   "cell_type": "code",
   "execution_count": null,
   "metadata": {},
   "outputs": [],
   "source": [
    "def turn_right():\n",
    "    turn_left()\n",
    "    turn_left()\n",
    "    turn_left()\n",
    "    \n",
    "def jump():\n",
    "    move()\n",
    "    turn_left()   \n",
    "    move()\n",
    "    turn_right()\n",
    "    move()\n",
    "    turn_right() \n",
    "    move()\n",
    "    turn_left() \n",
    "    \n",
    "\n",
    "while at_goal() != True:\n",
    "    jump()    \n",
    "while not at_goal():\n",
    "    jump() "
   ]
  },
  {
   "cell_type": "code",
   "execution_count": null,
   "metadata": {},
   "outputs": [],
   "source": [
    "def turn_right():\n",
    "    turn_left()\n",
    "    turn_left()\n",
    "    turn_left()\n",
    "    \n",
    "def jump():\n",
    "    turn_left()   \n",
    "    move()\n",
    "    turn_right()\n",
    "    move()\n",
    "    turn_right() \n",
    "    move()\n",
    "    turn_left() \n",
    "    \n",
    "\n",
    "while not at_goal():\n",
    "     if wall_in_front():\n",
    "        jump()\n",
    "     else:\n",
    "          move()\n"
   ]
  },
  {
   "cell_type": "code",
   "execution_count": null,
   "metadata": {},
   "outputs": [],
   "source": [
    "def turn_right():\n",
    "    turn_left()\n",
    "    turn_left()\n",
    "    turn_left()\n",
    "    \n",
    "def jump():\n",
    "   turn_left()\n",
    "   while wall_on_right():\n",
    "        move()\n",
    "   turn_right()\n",
    "   move()\n",
    "   turn_right()\n",
    "   while front_is_clear():\n",
    "        move()\n",
    "   turn_left()\n",
    "    \n",
    "\n",
    "while not at_goal():\n",
    "     if wall_in_front():\n",
    "        jump()\n",
    "     else:\n",
    "          move()"
   ]
  },
  {
   "cell_type": "code",
   "execution_count": null,
   "metadata": {},
   "outputs": [],
   "source": [
    "def turn_right():\n",
    "    turn_left()\n",
    "    turn_left()\n",
    "    turn_left()\n",
    "  \n",
    "while not at_goal():\n",
    "    if right_is_clear():\n",
    "       turn_right()\n",
    "       move()\n",
    "    elif front_is_clear():\n",
    "        move()\n",
    "    else:\n",
    "        turn_left()\n",
    "     "
   ]
  },
  {
   "cell_type": "code",
   "execution_count": null,
   "metadata": {},
   "outputs": [],
   "source": [
    "with out inifinte load_package_tests(def turn_right():\n",
    "    turn_left()\n",
    "    turn_left()\n",
    "    turn_left()\n",
    "\n",
    "while front_is_clear():\n",
    "    move()\n",
    "turn_left()\n",
    "    \n",
    "while not at_goal():\n",
    "    if right_is_clear():\n",
    "        turn_right()\n",
    "        move()\n",
    "    elif front_is_clear():\n",
    "        move()\n",
    "    else:\n",
    "        turn_left(), loader, standard_tests, pattern)"
   ]
  }
 ],
 "metadata": {
  "kernelspec": {
   "display_name": "mt5Trader",
   "language": "python",
   "name": "python3"
  },
  "language_info": {
   "name": "python",
   "version": "3.11.9"
  }
 },
 "nbformat": 4,
 "nbformat_minor": 2
}
