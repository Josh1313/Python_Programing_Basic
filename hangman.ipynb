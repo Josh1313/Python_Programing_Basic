{
 "cells": [
  {
   "cell_type": "code",
   "execution_count": 1,
   "metadata": {},
   "outputs": [],
   "source": [
    "import pandas as pd \n",
    "import numpy as np"
   ]
  },
  {
   "cell_type": "code",
   "execution_count": 16,
   "metadata": {},
   "outputs": [
    {
     "name": "stdout",
     "output_type": "stream",
     "text": [
      "arragd\n",
      "------\n",
      "----g-\n"
     ]
    }
   ],
   "source": [
    "import random\n",
    "\n",
    "word_list = [\"arragd\", \"khkjfsh\", \"jjhkjh\"]\n",
    "choosen_word = random.choice(word_list)\n",
    "print(choosen_word)\n",
    "####\n",
    "placeholder = \"\"\n",
    "\n",
    "word_lenght = len(choosen_word)\n",
    "for position in range(word_lenght):\n",
    "    placeholder += \"-\"\n",
    "print(placeholder)    \n",
    "###\n",
    "guess = input(\"GUESS A LETTER: \").lower()\n",
    "###\n",
    "display = \"\"\n",
    "###\n",
    "\n",
    "for letter in choosen_word:\n",
    "    if letter == guess:\n",
    "        display += letter\n",
    "    else:\n",
    "        display += \"-\"\n",
    "print(display)        \n",
    "            "
   ]
  }
 ],
 "metadata": {
  "kernelspec": {
   "display_name": "mt5Trader",
   "language": "python",
   "name": "python3"
  },
  "language_info": {
   "codemirror_mode": {
    "name": "ipython",
    "version": 3
   },
   "file_extension": ".py",
   "mimetype": "text/x-python",
   "name": "python",
   "nbconvert_exporter": "python",
   "pygments_lexer": "ipython3",
   "version": "3.11.9"
  }
 },
 "nbformat": 4,
 "nbformat_minor": 2
}
