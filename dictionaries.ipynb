{
 "cells": [
  {
   "cell_type": "code",
   "execution_count": 12,
   "metadata": {},
   "outputs": [],
   "source": [
    "program_ditcionary = {\n",
    "    \"Programing\":\" is a languague that the only way to learn is by coding\",\n",
    "}"
   ]
  },
  {
   "cell_type": "code",
   "execution_count": 13,
   "metadata": {},
   "outputs": [
    {
     "name": "stdout",
     "output_type": "stream",
     "text": [
      " is a languague that the only way to learn is by coding\n"
     ]
    }
   ],
   "source": [
    "print(program_ditcionary['Programing'])# retireven the value by the key"
   ]
  },
  {
   "cell_type": "code",
   "execution_count": 14,
   "metadata": {},
   "outputs": [],
   "source": [
    "program_ditcionary['Easy'] = \" is not easy but is worth while in time will be good\""
   ]
  },
  {
   "cell_type": "code",
   "execution_count": 15,
   "metadata": {},
   "outputs": [
    {
     "name": "stdout",
     "output_type": "stream",
     "text": [
      "{'Programing': ' is a languague that the only way to learn is by coding', 'Easy': ' is not easy but is worth while in time will be good'}\n"
     ]
    }
   ],
   "source": [
    "print(program_ditcionary)"
   ]
  },
  {
   "cell_type": "code",
   "execution_count": 16,
   "metadata": {},
   "outputs": [],
   "source": [
    "empty_dictionary = {}"
   ]
  },
  {
   "cell_type": "code",
   "execution_count": 17,
   "metadata": {},
   "outputs": [],
   "source": [
    "# wiping dictionary good if a game resstart and all scores are kept\n",
    "# program_ditcionary =  {}"
   ]
  },
  {
   "cell_type": "code",
   "execution_count": 18,
   "metadata": {},
   "outputs": [
    {
     "data": {
      "text/plain": [
       "{'Programing': ' is a languague that the only way to learn is by coding',\n",
       " 'Easy': ' is not easy but is worth while in time will be good'}"
      ]
     },
     "execution_count": 18,
     "metadata": {},
     "output_type": "execute_result"
    }
   ],
   "source": [
    "program_ditcionary"
   ]
  },
  {
   "cell_type": "code",
   "execution_count": 19,
   "metadata": {},
   "outputs": [],
   "source": [
    "# we can also edith the same way we add a value same way we edith with key \n",
    "program_ditcionary['Easy']  = \"los locos\""
   ]
  },
  {
   "cell_type": "code",
   "execution_count": 20,
   "metadata": {},
   "outputs": [
    {
     "name": "stdout",
     "output_type": "stream",
     "text": [
      "{'Programing': ' is a languague that the only way to learn is by coding', 'Easy': 'los locos'}\n"
     ]
    }
   ],
   "source": [
    "print(program_ditcionary)"
   ]
  },
  {
   "cell_type": "code",
   "execution_count": 21,
   "metadata": {},
   "outputs": [
    {
     "name": "stdout",
     "output_type": "stream",
     "text": [
      "Programing\n",
      "Easy\n"
     ]
    }
   ],
   "source": [
    "## loop trough a dictioanary\n",
    "for thing in program_ditcionary:\n",
    "    print(thing)\n"
   ]
  },
  {
   "cell_type": "code",
   "execution_count": 22,
   "metadata": {},
   "outputs": [
    {
     "name": "stdout",
     "output_type": "stream",
     "text": [
      "Programing\n",
      " is a languague that the only way to learn is by coding\n",
      "Easy\n",
      "los locos\n"
     ]
    }
   ],
   "source": [
    "## loop trough a dictioanary\n",
    "for key in program_ditcionary:\n",
    "    print(key)\n",
    "    print(program_ditcionary[key])"
   ]
  },
  {
   "cell_type": "code",
   "execution_count": 23,
   "metadata": {},
   "outputs": [
    {
     "name": "stdout",
     "output_type": "stream",
     "text": [
      "{'Harry': 'Exceeds Expectations', 'Ron': 'Acceptable', 'Hermione': 'Outstanding', 'Draco': 'Acceptable', 'Neville': 'Fail'}\n"
     ]
    }
   ],
   "source": [
    "student_scores = {\n",
    "    'Harry': 88,\n",
    "    'Ron': 78,\n",
    "    'Hermione': 95,\n",
    "    'Draco': 75,\n",
    "    'Neville': 60\n",
    "}\n",
    "# Initialize an empty dictionary to store the student grades\n",
    "student_grades = {}\n",
    "\n",
    "# Iterate through the student_scores dictionary\n",
    "for student, score in student_scores.items():\n",
    "    # Determine the grade based on the score and assign it to the student_grades dictionary\n",
    "    if score >= 91:\n",
    "        student_grades[student] = \"Outstanding\"\n",
    "    elif score >= 81:\n",
    "        student_grades[student] = \"Exceeds Expectations\"\n",
    "    elif score >= 71:\n",
    "        student_grades[student] = \"Acceptable\"\n",
    "    else:\n",
    "        student_grades[student] = \"Fail\"\n",
    "\n",
    "# Print the final student_grades dictionary\n",
    "print(student_grades)"
   ]
  },
  {
   "cell_type": "code",
   "execution_count": 26,
   "metadata": {},
   "outputs": [
    {
     "name": "stdout",
     "output_type": "stream",
     "text": [
      "{'Harry': 'Exceeds Expectations', 'Ron': 'Acceptable', 'Hermione': 'Outstanding', 'Draco': 'Acceptable', 'Neville': 'Fail'}\n"
     ]
    }
   ],
   "source": [
    "student_scores = {\n",
    "    'Harry': 88,\n",
    "    'Ron': 78,\n",
    "    'Hermione': 95,\n",
    "    'Draco': 75,\n",
    "    'Neville': 60\n",
    "}\n",
    "student_grades = {}\n",
    "\n",
    "for estudiantes, calificaciones in student_scores.items():\n",
    "    if calificaciones >= 91:\n",
    "        student_grades[estudiantes] = \"Outstanding\"\n",
    "    elif calificaciones >= 81:\n",
    "        student_grades[estudiantes] = \"Exceeds Expectations\"\n",
    "    elif calificaciones >= 71:\n",
    "        student_grades[estudiantes] = \"Acceptable\"\n",
    "    else:\n",
    "        student_grades[estudiantes] = \"Fail\"\n",
    "# Print the final student_grades dictionary\n",
    "print(student_grades)            "
   ]
  },
  {
   "cell_type": "code",
   "execution_count": 24,
   "metadata": {},
   "outputs": [],
   "source": [
    "## nested list in a dictornary\n",
    "travel_log = {\n",
    "    \"France\":['paris','bulger', 'lilu'],\n",
    "    \"Germanny\":['poris','bplger', 'lpoilu'],\n",
    "    \n",
    "}"
   ]
  },
  {
   "cell_type": "code",
   "execution_count": 25,
   "metadata": {},
   "outputs": [
    {
     "name": "stdout",
     "output_type": "stream",
     "text": [
      "bulger\n"
     ]
    }
   ],
   "source": [
    "## accesing to the list in a nested dictionary\n",
    "print(travel_log['France'][1])"
   ]
  },
  {
   "cell_type": "code",
   "execution_count": 27,
   "metadata": {},
   "outputs": [],
   "source": [
    "#  neste list withint a list and also extracting a value from the list\n",
    "nested_list = [\"a\",\"b\",[\"c\", 'd']]"
   ]
  },
  {
   "cell_type": "code",
   "execution_count": 35,
   "metadata": {},
   "outputs": [
    {
     "name": "stdout",
     "output_type": "stream",
     "text": [
      "d\n"
     ]
    }
   ],
   "source": [
    "print(nested_list[2][1])"
   ]
  },
  {
   "cell_type": "code",
   "execution_count": 38,
   "metadata": {},
   "outputs": [],
   "source": [
    "## nested list in a dictornary\n",
    "travel_log = {\n",
    "    \"Francia\":{\n",
    "        \"ciudades_visitadas\" :['paris','carr'],\n",
    "        \"total_de_visitas\":8,\n",
    "    },\n",
    "    \"Germanny\":{\n",
    "      \"iudades_visitadas\" :  ['poris','bplger', 'lpoilu'],\n",
    "      \"total_de_visitas\" : 8\n",
    "    }\n",
    "    \n",
    "}"
   ]
  },
  {
   "cell_type": "code",
   "execution_count": 44,
   "metadata": {},
   "outputs": [
    {
     "name": "stdout",
     "output_type": "stream",
     "text": [
      "lpoilu\n"
     ]
    }
   ],
   "source": [
    "# to acces list incie distionaries first you need to acces to the keys then list\n",
    "print(travel_log[\"Germanny\"]['iudades_visitadas'][2])"
   ]
  },
  {
   "cell_type": "code",
   "execution_count": 71,
   "metadata": {},
   "outputs": [
    {
     "name": "stdout",
     "output_type": "stream",
     "text": [
      "\n",
      "\n",
      "\n",
      "the winner is josue with the highest bid 900\n"
     ]
    }
   ],
   "source": [
    "def find_highest_bidder(bidding_dictionary):\n",
    "    winner = \"\"\n",
    "    highest_bid = 0\n",
    "    for bidder in bidding_dictionary:\n",
    "        bid_amount = bidding_dictionary[bidder]\n",
    "        if bid_amount > highest_bid:\n",
    "            highest_bid = bid_amount\n",
    "            winner = bidder\n",
    "    print(f\"the winner is {winner} with the highest bid {highest_bid}\")        \n",
    "\n",
    "# Initialize an empty dictionary to store the names and bids\n",
    "bids = {}\n",
    "continue_bidding = True\n",
    "\n",
    "\n",
    "# Continuously ask for user input until there are no more bidders\n",
    "while continue_bidding:\n",
    "    # Ask for the user's name and bid\n",
    "    name = input(\"Your Name please: \")\n",
    "    \n",
    "    # Ask for the user's bid and ensure it is a valid number\n",
    "    bid = int(input(\"What is your bid?: $\"))\n",
    "    \n",
    "    \n",
    "    # Add the name and bid to the dictionary\n",
    "    bids[name] = bid\n",
    "\n",
    "    # Ask if there is another user who wants to bid\n",
    "    should_continue = input(\"Is there another player who wants to bid? Type 'yes' or 'no': \").lower()\n",
    "\n",
    "    # Check if the answer is 'yes' or 'no'\n",
    "    if should_continue == \"no\":\n",
    "        continue_bidding = False\n",
    "        find_highest_bidder(bids)\n",
    "    elif should_continue == \"yes\":# In Jupyter Notebook, simulate clearing the screen by printing new lines\n",
    "        print(\"\\n\" * 2)\n",
    "    \n"
   ]
  },
  {
   "cell_type": "code",
   "execution_count": 70,
   "metadata": {},
   "outputs": [
    {
     "name": "stdout",
     "output_type": "stream",
     "text": [
      "\n",
      "\n",
      "\n",
      "\n",
      "\n",
      "\n",
      "The winner is carlos with a bid of $900.\n"
     ]
    }
   ],
   "source": [
    "# Initialize an empty dictionary to store the names and bids\n",
    "bids = {}\n",
    "\n",
    "# Continuously ask for user input until there are no more bidders\n",
    "while True:\n",
    "    # Ask for the user's name and bid\n",
    "    name = input(\"Your Name please: \")\n",
    "    bid = input(\"What is your bid?: $\")\n",
    "\n",
    "    # Ensure the bid input is a valid number\n",
    "    if not bid.isdigit():\n",
    "        print(\"Please enter a valid number for your bid.\")\n",
    "        continue\n",
    "    else:\n",
    "        bid = int(bid)\n",
    "\n",
    "    # Add the name and bid to the dictionary\n",
    "    bids[name] = bid\n",
    "\n",
    "    # Ask if there is another user who wants to bid\n",
    "    user_question = input(\"Is there another player who wants to bid? Type 'yes' or 'no': \").lower()\n",
    "\n",
    "    # If yes, simulate clearing the screen; otherwise, exit the loop\n",
    "    if user_question == \"yes\":\n",
    "        # In Jupyter Notebook, print new lines to simulate screen clearing\n",
    "        print(\"\\n\" * 2)\n",
    "    elif user_question == \"no\":\n",
    "        break  # Exit the loop if no more bidders\n",
    "    else:\n",
    "        print(\"Invalid input. Please enter 'yes' or 'no'.\")\n",
    "\n",
    "# Check if there are any bids before finding the highest bid\n",
    "if bids:\n",
    "    # Find the highest bid in the dictionary and declare the winner\n",
    "    highest_bidder = max(bids, key=bids.get)\n",
    "    highest_bid = bids[highest_bidder]\n",
    "    print(f\"The winner is {highest_bidder} with a bid of ${highest_bid}.\")\n",
    "else:\n",
    "    print(\"No bids were placed.\")\n"
   ]
  }
 ],
 "metadata": {
  "kernelspec": {
   "display_name": "mt5Trader",
   "language": "python",
   "name": "python3"
  },
  "language_info": {
   "codemirror_mode": {
    "name": "ipython",
    "version": 3
   },
   "file_extension": ".py",
   "mimetype": "text/x-python",
   "name": "python",
   "nbconvert_exporter": "python",
   "pygments_lexer": "ipython3",
   "version": "3.11.9"
  }
 },
 "nbformat": 4,
 "nbformat_minor": 2
}
