{
 "cells": [
  {
   "cell_type": "code",
   "execution_count": 3,
   "metadata": {},
   "outputs": [
    {
     "name": "stdout",
     "output_type": "stream",
     "text": [
      "enemies inside function: 2\n",
      "enemies outside funtion: 1\n",
      "2\n",
      "10\n"
     ]
    }
   ],
   "source": [
    "# Scope\n",
    "# esto es para entender el global and local variables como funcionan a fuera y adentro\n",
    "enemies =1\n",
    "\n",
    "def increase_enemies():\n",
    "    enemies = 2\n",
    "    print(f\"enemies inside function: {enemies}\")\n",
    "    \n",
    "    \n",
    "increase_enemies()\n",
    "print(f\"enemies outside funtion: {enemies}\")  \n",
    "\n",
    "## local scopes within the funtion  \n",
    "def drink_potion():\n",
    "    potion_strength = 2\n",
    "    print(potion_strength)\n",
    "    \n",
    "drink_potion()\n",
    "\"\"\"print(potion_strenght) # this is an error because the potion_strength is a local variable\"\"\"\n",
    "\n",
    "# global scope\n",
    "player_health = 10 # global variables can be used anywhere in the code\n",
    "\n",
    "def drink_potion1():\n",
    "    potion_strength1 = 2\n",
    "    print(player_health)\n",
    "    \n",
    "drink_potion1() \n"
   ]
  },
  {
   "cell_type": "code",
   "execution_count": 4,
   "metadata": {},
   "outputs": [
    {
     "name": "stdout",
     "output_type": "stream",
     "text": [
      "True\n",
      "False\n"
     ]
    }
   ],
   "source": [
    "import math\n",
    "\n",
    "def is_prime(number):\n",
    "    # Edge case: 1 is not a prime number\n",
    "    if number < 2:\n",
    "        return False\n",
    "    # Check divisibility up to the square root of the number\n",
    "    for i in range(2, int(math.sqrt(number)) + 1):\n",
    "        if number % i == 0:\n",
    "            return False\n",
    "    return True\n",
    "\n",
    "# Example usage\n",
    "print(is_prime(73))  # True\n",
    "print(is_prime(75))  # False\n"
   ]
  }
 ],
 "metadata": {
  "kernelspec": {
   "display_name": "mt5Trader",
   "language": "python",
   "name": "python3"
  },
  "language_info": {
   "codemirror_mode": {
    "name": "ipython",
    "version": 3
   },
   "file_extension": ".py",
   "mimetype": "text/x-python",
   "name": "python",
   "nbconvert_exporter": "python",
   "pygments_lexer": "ipython3",
   "version": "3.11.9"
  }
 },
 "nbformat": 4,
 "nbformat_minor": 2
}
