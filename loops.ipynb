{
 "cells": [
  {
   "cell_type": "markdown",
   "metadata": {},
   "source": [
    "lo basico al poner los for loops recuerda la indentacion primer linea lo que quieras buscar en la list lo vayas a pasar el loop y despues le haces un print o lo que quieras hacer\n"
   ]
  },
  {
   "cell_type": "code",
   "execution_count": 1,
   "metadata": {},
   "outputs": [],
   "source": [
    "import numpy as np\n",
    "import pandas as pd"
   ]
  },
  {
   "cell_type": "code",
   "execution_count": 2,
   "metadata": {},
   "outputs": [
    {
     "name": "stdout",
     "output_type": "stream",
     "text": [
      "manzana\n",
      "azucar\n",
      "corn\n"
     ]
    }
   ],
   "source": [
    "fruits = [\"manzana\", \"azucar\", \"corn\"]\n",
    "for fruit in fruits:\n",
    "    print(fruit)"
   ]
  },
  {
   "cell_type": "code",
   "execution_count": 3,
   "metadata": {},
   "outputs": [
    {
     "name": "stdout",
     "output_type": "stream",
     "text": [
      "manzana\n",
      "manzana apple pie\n",
      "['manzana', 'azucar', 'corn']\n",
      "azucar\n",
      "azucar apple pie\n",
      "['manzana', 'azucar', 'corn']\n",
      "corn\n",
      "corn apple pie\n",
      "['manzana', 'azucar', 'corn']\n"
     ]
    }
   ],
   "source": [
    "# podemos assiganr muchas cossas a la  vez al for loop siempre que este indentado\n",
    "fruits = [\"manzana\", \"azucar\", \"corn\"]\n",
    "for fruit in fruits:\n",
    "    print(fruit)\n",
    "    print(fruit + \" apple pie\")\n",
    "    print(fruits)# quita de indentacion para que veas como funciona"
   ]
  },
  {
   "cell_type": "code",
   "execution_count": 4,
   "metadata": {},
   "outputs": [
    {
     "name": "stdout",
     "output_type": "stream",
     "text": [
      "total of hight = 707\n",
      "number of students = 4\n",
      "average_high = 177\n"
     ]
    }
   ],
   "source": [
    "# Input a Python list of student heights\n",
    "student_heights = [165, 165 , 187, 190]\n",
    "for n in range(0, len(student_heights)):\n",
    "  student_heights[n] = int(student_heights[n])\n",
    "# 🚨 Don't change the code above 👆\n",
    "total_height = 0\n",
    "for height in student_heights:\n",
    "  total_height += height\n",
    "print(f\"total of hight = {total_height}\")\n",
    "\n",
    "number_students = 0\n",
    "for student in student_heights:\n",
    "  number_students += 1\n",
    "print(f\"number of students = {number_students}\")\n",
    "\n",
    "average_high = round(total_height / number_students )\n",
    "print(f\"average_high = {average_high}\")\n",
    "  \n",
    "# Write your code below this row 👇"
   ]
  },
  {
   "cell_type": "code",
   "execution_count": 5,
   "metadata": {},
   "outputs": [
    {
     "name": "stdout",
     "output_type": "stream",
     "text": [
      "altura total 707\n",
      " numero de estudiantes: 4\n",
      "altura_promedio: 177\n"
     ]
    }
   ],
   "source": [
    "# haremos un for que recorra por una listas nomas en forma de ejercicico\n",
    "altura_alumnos  = [165, 165, 187, 190]\n",
    "for n in range (0, len(altura_alumnos)):\n",
    "    altura_alumnos[n] = int(altura_alumnos[n])\n",
    "    \n",
    "altura_total = 0\n",
    "for altura in altura_alumnos:\n",
    "    altura_total += altura\n",
    "print(f\"altura total {altura_total}\") \n",
    "    \n",
    "numero_estudiantes = 0\n",
    "for estudiantes in altura_alumnos:\n",
    "    numero_estudiantes += 1\n",
    "print(f\" numero de estudiantes: {numero_estudiantes}\")  \n",
    "\n",
    "altura_promedio = round(altura_total / numero_estudiantes)\n",
    "print(f\"altura_promedio: {altura_promedio}\")\n",
    "    \n",
    "         "
   ]
  },
  {
   "cell_type": "code",
   "execution_count": 11,
   "metadata": {},
   "outputs": [
    {
     "name": "stdout",
     "output_type": "stream",
     "text": [
      "the highest_score is : 91\n"
     ]
    }
   ],
   "source": [
    "# input a list of student score\n",
    "list = [78,65,89,86,55,91,64,89]\n",
    "student_scores = input(list).split()\n",
    "for n in range(0, len(student_scores)):\n",
    "    student_scores[n] = int(student_scores[n])\n",
    "highest_score = 0\n",
    "for score in student_scores:\n",
    "    if score > highest_score:\n",
    "        highest_score = score\n",
    "        \n",
    "print(f\"the highest_score is : {highest_score}\")        "
   ]
  },
  {
   "cell_type": "code",
   "execution_count": 14,
   "metadata": {},
   "outputs": [
    {
     "name": "stdout",
     "output_type": "stream",
     "text": [
      "1\n",
      "5\n",
      "9\n"
     ]
    }
   ],
   "source": [
    "# in order to change the steps in the  range func all we nned to add is third number the stps\n",
    "for number in range(1, 11, 4):\n",
    "    print(number)"
   ]
  },
  {
   "cell_type": "code",
   "execution_count": 15,
   "metadata": {},
   "outputs": [
    {
     "name": "stdout",
     "output_type": "stream",
     "text": [
      "5050\n"
     ]
    }
   ],
   "source": [
    "total = 0\n",
    "for number in range(1, 101):\n",
    "    total += number\n",
    "print(total)    \n"
   ]
  },
  {
   "cell_type": "code",
   "execution_count": 21,
   "metadata": {},
   "outputs": [
    {
     "name": "stdout",
     "output_type": "stream",
     "text": [
      "2550\n"
     ]
    }
   ],
   "source": [
    "target = 100\n",
    "total = 0\n",
    "for number in range(2, target + 1, 2):\n",
    "    total += number\n",
    "print(total)"
   ]
  },
  {
   "cell_type": "code",
   "execution_count": 22,
   "metadata": {},
   "outputs": [
    {
     "name": "stdout",
     "output_type": "stream",
     "text": [
      "1\n",
      "2\n",
      "Fizz\n",
      "4\n",
      "Buzz\n",
      "Fizz\n",
      "7\n",
      "8\n",
      "Fizz\n",
      "Buzz\n",
      "11\n",
      "Fizz\n",
      "13\n",
      "14\n",
      "FizzBuzz\n",
      "16\n",
      "17\n",
      "Fizz\n",
      "19\n",
      "Buzz\n",
      "Fizz\n",
      "22\n",
      "23\n",
      "Fizz\n",
      "Buzz\n",
      "26\n",
      "Fizz\n",
      "28\n",
      "29\n",
      "FizzBuzz\n",
      "31\n",
      "32\n",
      "Fizz\n",
      "34\n",
      "Buzz\n",
      "Fizz\n",
      "37\n",
      "38\n",
      "Fizz\n",
      "Buzz\n",
      "41\n",
      "Fizz\n",
      "43\n",
      "44\n",
      "FizzBuzz\n",
      "46\n",
      "47\n",
      "Fizz\n",
      "49\n",
      "Buzz\n",
      "Fizz\n",
      "52\n",
      "53\n",
      "Fizz\n",
      "Buzz\n",
      "56\n",
      "Fizz\n",
      "58\n",
      "59\n",
      "FizzBuzz\n",
      "61\n",
      "62\n",
      "Fizz\n",
      "64\n",
      "Buzz\n",
      "Fizz\n",
      "67\n",
      "68\n",
      "Fizz\n",
      "Buzz\n",
      "71\n",
      "Fizz\n",
      "73\n",
      "74\n",
      "FizzBuzz\n",
      "76\n",
      "77\n",
      "Fizz\n",
      "79\n",
      "Buzz\n",
      "Fizz\n",
      "82\n",
      "83\n",
      "Fizz\n",
      "Buzz\n",
      "86\n",
      "Fizz\n",
      "88\n",
      "89\n",
      "FizzBuzz\n",
      "91\n",
      "92\n",
      "Fizz\n",
      "94\n",
      "Buzz\n",
      "Fizz\n",
      "97\n",
      "98\n",
      "Fizz\n",
      "Buzz\n"
     ]
    }
   ],
   "source": [
    "target = 100\n",
    "for number in range(1, target +1):\n",
    "    if number % 3 == 0 and number % 5 == 0:\n",
    "        print(\"FizzBuzz\")\n",
    "    elif number % 3 == 0:\n",
    "        print(\"Fizz\")\n",
    "    elif number % 5 == 0:\n",
    "        print(\"Buzz\")\n",
    "    else:\n",
    "        print(number)        \n",
    "        "
   ]
  },
  {
   "cell_type": "code",
   "execution_count": 31,
   "metadata": {},
   "outputs": [
    {
     "name": "stdout",
     "output_type": "stream",
     "text": [
      "Welcome to the PyPassword Generator!\n",
      "UYZD(&&$2206\n"
     ]
    }
   ],
   "source": [
    "#Password Generator Project\n",
    "import random\n",
    "letters = ['a', 'b', 'c', 'd', 'e', 'f', 'g', 'h', 'i', 'j', 'k', 'l', 'm', 'n', 'o', 'p', 'q', 'r', 's', 't', 'u', 'v', 'w', 'x', 'y', 'z', 'A', 'B', 'C', 'D', 'E', 'F', 'G', 'H', 'I', 'J', 'K', 'L', 'M', 'N', 'O', 'P', 'Q', 'R', 'S', 'T', 'U', 'V', 'W', 'X', 'Y', 'Z']\n",
    "numbers = ['0', '1', '2', '3', '4', '5', '6', '7', '8', '9']\n",
    "symbols = ['!', '#', '$', '%', '&', '(', ')', '*', '+']\n",
    "\n",
    "print(\"Welcome to the PyPassword Generator!\")\n",
    "nr_letters= int(input(\"How many letters would you like in your password?\\n\")) \n",
    "nr_symbols = int(input(f\"How many symbols would you like?\\n\"))\n",
    "nr_numbers = int(input(f\"How many numbers would you like?\\n\"))\n",
    "\n",
    "password = \"\"\n",
    "\n",
    "for char in range (1, nr_letters + 1):\n",
    " password +=  random.choice(letters)\n",
    "    \n",
    "    \n",
    "for char in range (1, nr_symbols + 1):\n",
    " password +=  random.choice(symbols)\n",
    "    \n",
    "    \n",
    "for char in range (1,nr_numbers + 1):\n",
    " password +=  random.choice(numbers)\n",
    "   \n",
    "           \n",
    "print(password)\n",
    "    \n"
   ]
  },
  {
   "cell_type": "code",
   "execution_count": 36,
   "metadata": {},
   "outputs": [
    {
     "name": "stdout",
     "output_type": "stream",
     "text": [
      "Welcome to the PyPassword Generator!\n",
      " you password is:9%nB%9\n"
     ]
    }
   ],
   "source": [
    "#Password Generator Project\n",
    "import random\n",
    "letters = ['a', 'b', 'c', 'd', 'e', 'f', 'g', 'h', 'i', 'j', 'k', 'l', 'm', 'n', 'o', 'p', 'q', 'r', 's', 't', 'u', 'v', 'w', 'x', 'y', 'z', 'A', 'B', 'C', 'D', 'E', 'F', 'G', 'H', 'I', 'J', 'K', 'L', 'M', 'N', 'O', 'P', 'Q', 'R', 'S', 'T', 'U', 'V', 'W', 'X', 'Y', 'Z']\n",
    "numbers = ['0', '1', '2', '3', '4', '5', '6', '7', '8', '9']\n",
    "symbols = ['!', '#', '$', '%', '&', '(', ')', '*', '+']\n",
    "\n",
    "print(\"Welcome to the PyPassword Generator!\")\n",
    "nr_letters= int(input(\"How many letters would you like in your password?\\n\")) \n",
    "nr_symbols = int(input(f\"How many symbols would you like?\\n\"))\n",
    "nr_numbers = int(input(f\"How many numbers would you like?\\n\"))\n",
    "\n",
    "password_list = []\n",
    "\n",
    "for char in range (1, nr_letters + 1):\n",
    " password_list.append(random.choice(letters))\n",
    "    \n",
    "    \n",
    "for char in range (1, nr_symbols + 1):\n",
    " password_list +=  random.choice(symbols)\n",
    "    \n",
    "    \n",
    "for char in range (1,nr_numbers + 1):\n",
    " password_list +=  random.choice(numbers)\n",
    "   \n",
    "           \n",
    "#print(password_list)\n",
    "random.shuffle(password_list)\n",
    "#print(password_list)\n",
    "\n",
    "password = \"\"\n",
    "for char in password_list:\n",
    "    password += char\n",
    "    \n",
    "print(f\" you password is:{password}\")    \n",
    "    \n"
   ]
  }
 ],
 "metadata": {
  "kernelspec": {
   "display_name": "Python 3",
   "language": "python",
   "name": "python3"
  },
  "language_info": {
   "codemirror_mode": {
    "name": "ipython",
    "version": 3
   },
   "file_extension": ".py",
   "mimetype": "text/x-python",
   "name": "python",
   "nbconvert_exporter": "python",
   "pygments_lexer": "ipython3",
   "version": "3.11.9"
  }
 },
 "nbformat": 4,
 "nbformat_minor": 2
}
