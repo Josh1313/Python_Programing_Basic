{
 "cells": [
  {
   "cell_type": "code",
   "execution_count": 5,
   "metadata": {},
   "outputs": [],
   "source": [
    "def upper_cas(f_name, l_name):\n",
    "    first_name = f_name.title()\n",
    "    last_name = l_name.title()\n",
    "    return f'{first_name},{last_name}'"
   ]
  },
  {
   "cell_type": "code",
   "execution_count": 6,
   "metadata": {},
   "outputs": [],
   "source": [
    "names = upper_cas(f_name='josue', l_name='martinez')"
   ]
  },
  {
   "cell_type": "code",
   "execution_count": 7,
   "metadata": {},
   "outputs": [
    {
     "name": "stdout",
     "output_type": "stream",
     "text": [
      "Josue,Martinez\n"
     ]
    }
   ],
   "source": [
    "print(names)"
   ]
  },
  {
   "cell_type": "code",
   "execution_count": 12,
   "metadata": {},
   "outputs": [],
   "source": [
    "def upper_case(f_name, l_name):\n",
    "    if f_name == \"\" or l_name== \"\":\n",
    "        return f'no valid inputs'\n",
    "    first_name = f_name.title()\n",
    "    last_name = l_name.title()\n",
    "    return f'{first_name} {last_name}'"
   ]
  },
  {
   "cell_type": "code",
   "execution_count": 15,
   "metadata": {},
   "outputs": [
    {
     "name": "stdout",
     "output_type": "stream",
     "text": [
      "no valid inputs\n"
     ]
    }
   ],
   "source": [
    "print(upper_case(input(), input()))"
   ]
  },
  {
   "cell_type": "code",
   "execution_count": 16,
   "metadata": {},
   "outputs": [],
   "source": [
    "def is_leap_year(year):\n",
    "    # Write your code here. \n",
    "    # Check if the year is divisible by 400\n",
    "    if year % 400 == 0:\n",
    "        return True\n",
    "    # If not divisible by 400, check if it is divisible by 100\n",
    "    elif year % 100 == 0:\n",
    "        return False\n",
    "    # If not divisible by 100, check if it is divisible by 4\n",
    "    elif year % 4 == 0:\n",
    "        return True\n",
    "    # If none of the above conditions are met, it is not a leap year\n",
    "    else:\n",
    "        return False\n",
    "    # Don't change the function name."
   ]
  },
  {
   "cell_type": "code",
   "execution_count": 22,
   "metadata": {},
   "outputs": [
    {
     "name": "stdout",
     "output_type": "stream",
     "text": [
      "True\n"
     ]
    }
   ],
   "source": [
    "leap = is_leap_year(2004)\n",
    "print(leap)"
   ]
  },
  {
   "cell_type": "code",
   "execution_count": 4,
   "metadata": {},
   "outputs": [
    {
     "name": "stdout",
     "output_type": "stream",
     "text": [
      "+\n",
      "-\n",
      "*\n",
      "/\n",
      "The result of 12.0 - 6.0 is 6.0\n",
      "\n",
      "\n"
     ]
    },
    {
     "ename": "ValueError",
     "evalue": "could not convert string to float: ''",
     "output_type": "error",
     "traceback": [
      "\u001b[1;31m---------------------------------------------------------------------------\u001b[0m",
      "\u001b[1;31mValueError\u001b[0m                                Traceback (most recent call last)",
      "Cell \u001b[1;32mIn[4], line 47\u001b[0m\n\u001b[0;32m     45\u001b[0m             \u001b[38;5;28mprint\u001b[39m(\u001b[38;5;124m\"\u001b[39m\u001b[38;5;130;01m\\n\u001b[39;00m\u001b[38;5;124m\"\u001b[39m \u001b[38;5;241m*\u001b[39m \u001b[38;5;241m1\u001b[39m) \n\u001b[0;32m     46\u001b[0m             calculator()\n\u001b[1;32m---> 47\u001b[0m \u001b[43mcalculator\u001b[49m\u001b[43m(\u001b[49m\u001b[43m)\u001b[49m              \n",
      "Cell \u001b[1;32mIn[4], line 46\u001b[0m, in \u001b[0;36mcalculator\u001b[1;34m()\u001b[0m\n\u001b[0;32m     44\u001b[0m should_acummulate \u001b[38;5;241m=\u001b[39m \u001b[38;5;28;01mFalse\u001b[39;00m \n\u001b[0;32m     45\u001b[0m \u001b[38;5;28mprint\u001b[39m(\u001b[38;5;124m\"\u001b[39m\u001b[38;5;130;01m\\n\u001b[39;00m\u001b[38;5;124m\"\u001b[39m \u001b[38;5;241m*\u001b[39m \u001b[38;5;241m1\u001b[39m) \n\u001b[1;32m---> 46\u001b[0m \u001b[43mcalculator\u001b[49m\u001b[43m(\u001b[49m\u001b[43m)\u001b[49m\n",
      "Cell \u001b[1;32mIn[4], line 26\u001b[0m, in \u001b[0;36mcalculator\u001b[1;34m()\u001b[0m\n\u001b[0;32m     24\u001b[0m should_acummulate \u001b[38;5;241m=\u001b[39m \u001b[38;5;28;01mTrue\u001b[39;00m\n\u001b[0;32m     25\u001b[0m \u001b[38;5;66;03m# Step 1: Program asks the user to type the first number\u001b[39;00m\n\u001b[1;32m---> 26\u001b[0m num1 \u001b[38;5;241m=\u001b[39m \u001b[38;5;28;43mfloat\u001b[39;49m\u001b[43m(\u001b[49m\u001b[38;5;28;43minput\u001b[39;49m\u001b[43m(\u001b[49m\u001b[38;5;124;43m\"\u001b[39;49m\u001b[38;5;124;43mWelcome to your Calculator app! What is your first number? \u001b[39;49m\u001b[38;5;124;43m\"\u001b[39;49m\u001b[43m)\u001b[49m\u001b[43m)\u001b[49m\n\u001b[0;32m     28\u001b[0m \u001b[38;5;28;01mwhile\u001b[39;00m should_acummulate:\n\u001b[0;32m     29\u001b[0m     \u001b[38;5;28;01mfor\u001b[39;00m symbol \u001b[38;5;129;01min\u001b[39;00m operations:\n",
      "\u001b[1;31mValueError\u001b[0m: could not convert string to float: ''"
     ]
    }
   ],
   "source": [
    "def add(n1, n2):\n",
    "    return n1 + n2\n",
    "\n",
    "def subtract(n1, n2):\n",
    "    return n1 - n2\n",
    "\n",
    "def multiply(n1, n2):\n",
    "    return n1 * n2\n",
    "\n",
    "def divide(n1, n2):\n",
    "    if n2 == 0:\n",
    "        return \"Cannot divide by zero!\"\n",
    "    return n1 / n2\n",
    "\n",
    "# Dictionary to map operations to their corresponding functions\n",
    "operations = {\n",
    "    \"+\": add,\n",
    "    \"-\": subtract,\n",
    "    \"*\": multiply,\n",
    "    \"/\": divide\n",
    "}\n",
    "def calculator():\n",
    "    # Initialize result variable\n",
    "    should_acummulate = True\n",
    "    # Step 1: Program asks the user to type the first number\n",
    "    num1 = float(input(\"Welcome to your Calculator app! What is your first number? \"))\n",
    "\n",
    "    while should_acummulate:\n",
    "        for symbol in operations:\n",
    "            print(symbol)\n",
    "            # Step 2: Program asks the user to choose an operational operator\n",
    "        operation_symbol = input(\"Choose an operator: \")\n",
    "        # Step 3: Program asks the user to type the second number\n",
    "        num2 = float(input(\"Enter the second number: \"))\n",
    "        # Step 4: Program works out the result based on the chosen mathematical operator\n",
    "        answer = operations[operation_symbol](num1, num2)\n",
    "        print(f\"The result of {num1} {operation_symbol} {num2} is {answer}\")\n",
    "\n",
    "        choice =input(f'type \"y\" to continue calculating with {answer}, or type \"n\" to finish')\n",
    "            # If yes, program loops to use the previous result as the first number\n",
    "        if choice == \"y\" :\n",
    "            num1 = answer\n",
    "        else:\n",
    "            should_acummulate = False \n",
    "            print(\"\\n\" * 1) \n",
    "            calculator()\n",
    "calculator()              \n",
    "            \n",
    "\n",
    "\n",
    "\n",
    "\n"
   ]
  },
  {
   "cell_type": "code",
   "execution_count": null,
   "metadata": {},
   "outputs": [],
   "source": []
  },
  {
   "cell_type": "code",
   "execution_count": null,
   "metadata": {},
   "outputs": [],
   "source": []
  }
 ],
 "metadata": {
  "kernelspec": {
   "display_name": "mt5Trader",
   "language": "python",
   "name": "python3"
  },
  "language_info": {
   "codemirror_mode": {
    "name": "ipython",
    "version": 3
   },
   "file_extension": ".py",
   "mimetype": "text/x-python",
   "name": "python",
   "nbconvert_exporter": "python",
   "pygments_lexer": "ipython3",
   "version": "3.11.9"
  }
 },
 "nbformat": 4,
 "nbformat_minor": 2
}
