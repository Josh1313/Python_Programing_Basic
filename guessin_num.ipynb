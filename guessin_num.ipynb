{
 "cells": [
  {
   "cell_type": "code",
   "execution_count": 1,
   "metadata": {},
   "outputs": [],
   "source": [
    "import pandas as pd\n",
    "import numpy as np\n",
    "import random\n"
   ]
  },
  {
   "cell_type": "code",
   "execution_count": 11,
   "metadata": {},
   "outputs": [
    {
     "name": "stdout",
     "output_type": "stream",
     "text": [
      "Welcome to the number guessing game!\n",
      "I'm thinking of a number between 1 and 100.\n",
      "You have 10 attempts remaining to guess the number.\n",
      "Too low\n",
      "You have 9 attempts remaining to guess the number.\n",
      "Too low\n",
      "You have 8 attempts remaining to guess the number.\n",
      "Too low\n",
      "You have 7 attempts remaining to guess the number.\n",
      "Too high\n",
      "You have 6 attempts remaining to guess the number.\n",
      "Too low\n",
      "You have 5 attempts remaining to guess the number.\n",
      "Too high\n",
      "You have 4 attempts remaining to guess the number.\n",
      "Too low\n",
      "You have 3 attempts remaining to guess the number.\n",
      "Too low\n",
      "You have 2 attempts remaining to guess the number.\n",
      "Too high\n",
      "You have 1 attempts remaining to guess the number.\n",
      "You win\n"
     ]
    }
   ],
   "source": [
    "\n",
    "dificulty =(f\"Choose a difficulty. Type 'easy' or 'hard': \")\n",
    "user = input(f\"Welcome to the number guessing game! \\n Im thinking of a number between 1 and 100.\\n  {dificulty}\")\n",
    "easy = input(f\" You have 10 attempts remaining to guess the number.\\n make a guess:\")\n",
    "hard = input(f\" You have 5 attempts remaining to guess the number.\\n make a guess:\")\n",
    "user= []# iniciamos los guess del usuaruio\n",
    "computer_pick = [] #iniciamos el numero de la computadora\n",
    "computer_pick = random(1, 100) # la computadora va a elegir un numero entre 1 y 100\n",
    "\n",
    "def user_attempt():\n",
    "    if user > computer_pick:\n",
    "        return \"Too high\"\n",
    "    elif user < computer_pick:\n",
    "        return \"Too low\"\n",
    "    else:\n",
    "        return \"You win\"\n",
    "\n",
    "\n",
    "\n",
    "\n"
   ]
  }
 ],
 "metadata": {
  "kernelspec": {
   "display_name": "mt5Trader",
   "language": "python",
   "name": "python3"
  },
  "language_info": {
   "codemirror_mode": {
    "name": "ipython",
    "version": 3
   },
   "file_extension": ".py",
   "mimetype": "text/x-python",
   "name": "python",
   "nbconvert_exporter": "python",
   "pygments_lexer": "ipython3",
   "version": "3.11.9"
  }
 },
 "nbformat": 4,
 "nbformat_minor": 2
}
